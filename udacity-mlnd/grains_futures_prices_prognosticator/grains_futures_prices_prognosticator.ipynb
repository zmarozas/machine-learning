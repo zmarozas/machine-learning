{
 "cells": [
  {
   "cell_type": "markdown",
   "metadata": {},
   "source": [
    "# Machine Learning Engineer Nanodegree\n",
    "## Capstone\n",
    "## Project- Corn Commodity Futures Price Predictor\n",
    "\n",
    "In this project we will try to predict closing weekly price of Corn Commodity Futures. In order to perform this prediction we will create a dataset that includes weekly Corn Futures closing prices as well as Long Open Interest and Short Open Interest of Processors/Users( sometimes they are called Commercials) from COT reports and by using this dataset we will try to predict next week’s prices. \n"
   ]
  },
  {
   "cell_type": "markdown",
   "metadata": {},
   "source": [
    "## 1. Data Sets\n",
    "\n",
    "Historical Futures Prices: Corn Futures, Continuous Contract #1. Non-adjusted price based on spot-month continuous contract calculations. Raw data from CME:\n",
    "[Can be found here](https://www.quandl.com/data/CHRIS/CME_C1-Corn-Futures-Continuous-Contract-1-C1-Front-Month)<br>\n",
    "Commitment of Traders - CORN (CBT) - Futures Only (002602)\n",
    "[Can be found here](https://www.quandl.com/data/CFTC/002602_F_ALL-Commitment-of-Traders-CORN-CBT-Futures-Only-002602)\n",
    "\n",
    "Data has been downloaded and stored in \\Data folder:\n",
    "\n",
    "- **.\\data\\CHRIS-CME_C1.csv** - Corn Futures Prices data\n",
    "- **.\\data\\CFTC-002602_F_ALL.csv** - Commitment of Traders data\n"
   ]
  },
  {
   "cell_type": "code",
   "execution_count": 56,
   "metadata": {},
   "outputs": [],
   "source": [
    "import pandas as pd\n",
    "import numpy as np\n",
    "from IPython.core.display import display, HTML\n",
    "pd.options.display.max_colwidth = 500  # You need this, otherwise pandas\n",
    "# will limit your HTML strings to 50 characters\n",
    "pd.set_option('display.max_columns', None)\n",
    "pd.options.mode.chained_assignment = None  # default='warn'\n",
    "from matplotlib import pyplot"
   ]
  },
  {
   "cell_type": "markdown",
   "metadata": {},
   "source": [
    "## 2. Data Exploration\n",
    "\n"
   ]
  },
  {
   "cell_type": "code",
   "execution_count": 45,
   "metadata": {},
   "outputs": [
    {
     "data": {
      "text/html": [
       "<div>\n",
       "<style scoped>\n",
       "    .dataframe tbody tr th:only-of-type {\n",
       "        vertical-align: middle;\n",
       "    }\n",
       "\n",
       "    .dataframe tbody tr th {\n",
       "        vertical-align: top;\n",
       "    }\n",
       "\n",
       "    .dataframe thead th {\n",
       "        text-align: right;\n",
       "    }\n",
       "</style>\n",
       "<table border=\"1\" class=\"dataframe\">\n",
       "  <thead>\n",
       "    <tr style=\"text-align: right;\">\n",
       "      <th></th>\n",
       "      <th>Date</th>\n",
       "      <th>Open</th>\n",
       "      <th>High</th>\n",
       "      <th>Low</th>\n",
       "      <th>Last</th>\n",
       "      <th>Change</th>\n",
       "      <th>Settle</th>\n",
       "      <th>Volume</th>\n",
       "      <th>Previous_Day_Open_Interest</th>\n",
       "    </tr>\n",
       "  </thead>\n",
       "  <tbody>\n",
       "    <tr>\n",
       "      <th>0</th>\n",
       "      <td>2018-07-10</td>\n",
       "      <td>344.25</td>\n",
       "      <td>344.75</td>\n",
       "      <td>336.25</td>\n",
       "      <td>339.50</td>\n",
       "      <td>6.00</td>\n",
       "      <td>339.75</td>\n",
       "      <td>2668.0</td>\n",
       "      <td>2186.0</td>\n",
       "    </tr>\n",
       "    <tr>\n",
       "      <th>1</th>\n",
       "      <td>2018-07-09</td>\n",
       "      <td>346.00</td>\n",
       "      <td>348.50</td>\n",
       "      <td>342.50</td>\n",
       "      <td>346.00</td>\n",
       "      <td>6.00</td>\n",
       "      <td>345.75</td>\n",
       "      <td>3190.0</td>\n",
       "      <td>2969.0</td>\n",
       "    </tr>\n",
       "    <tr>\n",
       "      <th>2</th>\n",
       "      <td>2018-07-06</td>\n",
       "      <td>342.00</td>\n",
       "      <td>352.25</td>\n",
       "      <td>342.00</td>\n",
       "      <td>350.75</td>\n",
       "      <td>8.25</td>\n",
       "      <td>351.75</td>\n",
       "      <td>3068.0</td>\n",
       "      <td>3959.0</td>\n",
       "    </tr>\n",
       "    <tr>\n",
       "      <th>3</th>\n",
       "      <td>2018-07-05</td>\n",
       "      <td>345.50</td>\n",
       "      <td>348.75</td>\n",
       "      <td>341.50</td>\n",
       "      <td>342.50</td>\n",
       "      <td>0.75</td>\n",
       "      <td>343.50</td>\n",
       "      <td>3302.0</td>\n",
       "      <td>4812.0</td>\n",
       "    </tr>\n",
       "    <tr>\n",
       "      <th>4</th>\n",
       "      <td>2018-07-03</td>\n",
       "      <td>340.25</td>\n",
       "      <td>345.25</td>\n",
       "      <td>339.25</td>\n",
       "      <td>343.25</td>\n",
       "      <td>5.25</td>\n",
       "      <td>342.75</td>\n",
       "      <td>3048.0</td>\n",
       "      <td>5687.0</td>\n",
       "    </tr>\n",
       "  </tbody>\n",
       "</table>\n",
       "</div>"
      ],
      "text/plain": [
       "         Date    Open    High     Low    Last  Change  Settle  Volume  \\\n",
       "0  2018-07-10  344.25  344.75  336.25  339.50    6.00  339.75  2668.0   \n",
       "1  2018-07-09  346.00  348.50  342.50  346.00    6.00  345.75  3190.0   \n",
       "2  2018-07-06  342.00  352.25  342.00  350.75    8.25  351.75  3068.0   \n",
       "3  2018-07-05  345.50  348.75  341.50  342.50    0.75  343.50  3302.0   \n",
       "4  2018-07-03  340.25  345.25  339.25  343.25    5.25  342.75  3048.0   \n",
       "\n",
       "   Previous_Day_Open_Interest  \n",
       "0                      2186.0  \n",
       "1                      2969.0  \n",
       "2                      3959.0  \n",
       "3                      4812.0  \n",
       "4                      5687.0  "
      ]
     },
     "execution_count": 45,
     "metadata": {},
     "output_type": "execute_result"
    }
   ],
   "source": [
    "df_fut_orig = pd.read_csv('data\\CHRIS-CME_C1.csv')\n",
    "df_fut_orig.head(n=5)"
   ]
  },
  {
   "cell_type": "code",
   "execution_count": 46,
   "metadata": {},
   "outputs": [
    {
     "data": {
      "text/html": [
       "<div>\n",
       "<style scoped>\n",
       "    .dataframe tbody tr th:only-of-type {\n",
       "        vertical-align: middle;\n",
       "    }\n",
       "\n",
       "    .dataframe tbody tr th {\n",
       "        vertical-align: top;\n",
       "    }\n",
       "\n",
       "    .dataframe thead th {\n",
       "        text-align: right;\n",
       "    }\n",
       "</style>\n",
       "<table border=\"1\" class=\"dataframe\">\n",
       "  <thead>\n",
       "    <tr style=\"text-align: right;\">\n",
       "      <th></th>\n",
       "      <th>Date</th>\n",
       "      <th>Open Interest</th>\n",
       "      <th>Producer_Merchant_Processor_User_Longs</th>\n",
       "      <th>Producer_Merchant_Processor_User_Shorts</th>\n",
       "      <th>Swap Dealer Longs</th>\n",
       "      <th>Swap Dealer Shorts</th>\n",
       "      <th>Swap Dealer Spreads</th>\n",
       "      <th>Money Manager Longs</th>\n",
       "      <th>Money Manager Shorts</th>\n",
       "      <th>Money Manager Spreads</th>\n",
       "      <th>Other Reportable Longs</th>\n",
       "      <th>Other Reportable Shorts</th>\n",
       "      <th>Other Reportable Spreads</th>\n",
       "      <th>Total Reportable Longs</th>\n",
       "      <th>Total Reportable Shorts</th>\n",
       "      <th>Non Reportable Longs</th>\n",
       "      <th>Non Reportable Shorts</th>\n",
       "    </tr>\n",
       "  </thead>\n",
       "  <tbody>\n",
       "    <tr>\n",
       "      <th>0</th>\n",
       "      <td>2018-07-10</td>\n",
       "      <td>1818055.0</td>\n",
       "      <td>500172.0</td>\n",
       "      <td>750062.0</td>\n",
       "      <td>208128.0</td>\n",
       "      <td>39513.0</td>\n",
       "      <td>99477.0</td>\n",
       "      <td>263353.0</td>\n",
       "      <td>404297.0</td>\n",
       "      <td>154286.0</td>\n",
       "      <td>320946.0</td>\n",
       "      <td>70682.0</td>\n",
       "      <td>98709.0</td>\n",
       "      <td>1645071.0</td>\n",
       "      <td>1617026.0</td>\n",
       "      <td>172984.0</td>\n",
       "      <td>201029.0</td>\n",
       "    </tr>\n",
       "    <tr>\n",
       "      <th>1</th>\n",
       "      <td>2018-07-03</td>\n",
       "      <td>1830330.0</td>\n",
       "      <td>484257.0</td>\n",
       "      <td>773851.0</td>\n",
       "      <td>210341.0</td>\n",
       "      <td>36927.0</td>\n",
       "      <td>100340.0</td>\n",
       "      <td>274795.0</td>\n",
       "      <td>382191.0</td>\n",
       "      <td>149756.0</td>\n",
       "      <td>322256.0</td>\n",
       "      <td>66508.0</td>\n",
       "      <td>119627.0</td>\n",
       "      <td>1661372.0</td>\n",
       "      <td>1629200.0</td>\n",
       "      <td>168958.0</td>\n",
       "      <td>201130.0</td>\n",
       "    </tr>\n",
       "    <tr>\n",
       "      <th>2</th>\n",
       "      <td>2018-06-26</td>\n",
       "      <td>1885804.0</td>\n",
       "      <td>513100.0</td>\n",
       "      <td>840177.0</td>\n",
       "      <td>223131.0</td>\n",
       "      <td>32763.0</td>\n",
       "      <td>91972.0</td>\n",
       "      <td>287061.0</td>\n",
       "      <td>377825.0</td>\n",
       "      <td>153461.0</td>\n",
       "      <td>330396.0</td>\n",
       "      <td>58283.0</td>\n",
       "      <td>116745.0</td>\n",
       "      <td>1715866.0</td>\n",
       "      <td>1671226.0</td>\n",
       "      <td>169938.0</td>\n",
       "      <td>214578.0</td>\n",
       "    </tr>\n",
       "    <tr>\n",
       "      <th>3</th>\n",
       "      <td>2018-06-19</td>\n",
       "      <td>1992169.0</td>\n",
       "      <td>525197.0</td>\n",
       "      <td>920764.0</td>\n",
       "      <td>222105.0</td>\n",
       "      <td>41144.0</td>\n",
       "      <td>99285.0</td>\n",
       "      <td>299377.0</td>\n",
       "      <td>356828.0</td>\n",
       "      <td>163454.0</td>\n",
       "      <td>379025.0</td>\n",
       "      <td>56652.0</td>\n",
       "      <td>135078.0</td>\n",
       "      <td>1823521.0</td>\n",
       "      <td>1773205.0</td>\n",
       "      <td>168648.0</td>\n",
       "      <td>218964.0</td>\n",
       "    </tr>\n",
       "    <tr>\n",
       "      <th>4</th>\n",
       "      <td>2018-06-12</td>\n",
       "      <td>1963233.0</td>\n",
       "      <td>488666.0</td>\n",
       "      <td>917204.0</td>\n",
       "      <td>235249.0</td>\n",
       "      <td>37674.0</td>\n",
       "      <td>93281.0</td>\n",
       "      <td>292054.0</td>\n",
       "      <td>304292.0</td>\n",
       "      <td>172623.0</td>\n",
       "      <td>363918.0</td>\n",
       "      <td>65030.0</td>\n",
       "      <td>147098.0</td>\n",
       "      <td>1792889.0</td>\n",
       "      <td>1737202.0</td>\n",
       "      <td>170344.0</td>\n",
       "      <td>226031.0</td>\n",
       "    </tr>\n",
       "  </tbody>\n",
       "</table>\n",
       "</div>"
      ],
      "text/plain": [
       "         Date  Open Interest  Producer_Merchant_Processor_User_Longs  \\\n",
       "0  2018-07-10      1818055.0                                500172.0   \n",
       "1  2018-07-03      1830330.0                                484257.0   \n",
       "2  2018-06-26      1885804.0                                513100.0   \n",
       "3  2018-06-19      1992169.0                                525197.0   \n",
       "4  2018-06-12      1963233.0                                488666.0   \n",
       "\n",
       "   Producer_Merchant_Processor_User_Shorts  Swap Dealer Longs  \\\n",
       "0                                 750062.0           208128.0   \n",
       "1                                 773851.0           210341.0   \n",
       "2                                 840177.0           223131.0   \n",
       "3                                 920764.0           222105.0   \n",
       "4                                 917204.0           235249.0   \n",
       "\n",
       "   Swap Dealer Shorts  Swap Dealer Spreads  Money Manager Longs  \\\n",
       "0             39513.0              99477.0             263353.0   \n",
       "1             36927.0             100340.0             274795.0   \n",
       "2             32763.0              91972.0             287061.0   \n",
       "3             41144.0              99285.0             299377.0   \n",
       "4             37674.0              93281.0             292054.0   \n",
       "\n",
       "   Money Manager Shorts  Money Manager Spreads  Other Reportable Longs  \\\n",
       "0              404297.0               154286.0                320946.0   \n",
       "1              382191.0               149756.0                322256.0   \n",
       "2              377825.0               153461.0                330396.0   \n",
       "3              356828.0               163454.0                379025.0   \n",
       "4              304292.0               172623.0                363918.0   \n",
       "\n",
       "   Other Reportable Shorts  Other Reportable Spreads  Total Reportable Longs  \\\n",
       "0                  70682.0                   98709.0               1645071.0   \n",
       "1                  66508.0                  119627.0               1661372.0   \n",
       "2                  58283.0                  116745.0               1715866.0   \n",
       "3                  56652.0                  135078.0               1823521.0   \n",
       "4                  65030.0                  147098.0               1792889.0   \n",
       "\n",
       "   Total Reportable Shorts  Non Reportable Longs  Non Reportable Shorts  \n",
       "0                1617026.0              172984.0               201029.0  \n",
       "1                1629200.0              168958.0               201130.0  \n",
       "2                1671226.0              169938.0               214578.0  \n",
       "3                1773205.0              168648.0               218964.0  \n",
       "4                1737202.0              170344.0               226031.0  "
      ]
     },
     "execution_count": 46,
     "metadata": {},
     "output_type": "execute_result"
    }
   ],
   "source": [
    "df_cot_orig = pd.read_csv('data\\CFTC-002602_F_ALL.csv')\n",
    "df_cot_orig.head()"
   ]
  },
  {
   "cell_type": "markdown",
   "metadata": {},
   "source": [
    "### Drop unnecessary columns columns and resample data"
   ]
  },
  {
   "cell_type": "code",
   "execution_count": 47,
   "metadata": {},
   "outputs": [
    {
     "data": {
      "text/html": [
       "<div>\n",
       "<style scoped>\n",
       "    .dataframe tbody tr th:only-of-type {\n",
       "        vertical-align: middle;\n",
       "    }\n",
       "\n",
       "    .dataframe tbody tr th {\n",
       "        vertical-align: top;\n",
       "    }\n",
       "\n",
       "    .dataframe thead th {\n",
       "        text-align: right;\n",
       "    }\n",
       "</style>\n",
       "<table border=\"1\" class=\"dataframe\">\n",
       "  <thead>\n",
       "    <tr style=\"text-align: right;\">\n",
       "      <th></th>\n",
       "      <th>Open</th>\n",
       "      <th>Settle</th>\n",
       "      <th>Volume</th>\n",
       "    </tr>\n",
       "    <tr>\n",
       "      <th>Date</th>\n",
       "      <th></th>\n",
       "      <th></th>\n",
       "      <th></th>\n",
       "    </tr>\n",
       "  </thead>\n",
       "  <tbody>\n",
       "    <tr>\n",
       "      <th>2018-07-10</th>\n",
       "      <td>344.25</td>\n",
       "      <td>339.75</td>\n",
       "      <td>2668.0</td>\n",
       "    </tr>\n",
       "    <tr>\n",
       "      <th>2018-07-09</th>\n",
       "      <td>346.00</td>\n",
       "      <td>345.75</td>\n",
       "      <td>3190.0</td>\n",
       "    </tr>\n",
       "    <tr>\n",
       "      <th>2018-07-06</th>\n",
       "      <td>342.00</td>\n",
       "      <td>351.75</td>\n",
       "      <td>3068.0</td>\n",
       "    </tr>\n",
       "    <tr>\n",
       "      <th>2018-07-05</th>\n",
       "      <td>345.50</td>\n",
       "      <td>343.50</td>\n",
       "      <td>3302.0</td>\n",
       "    </tr>\n",
       "    <tr>\n",
       "      <th>2018-07-03</th>\n",
       "      <td>340.25</td>\n",
       "      <td>342.75</td>\n",
       "      <td>3048.0</td>\n",
       "    </tr>\n",
       "  </tbody>\n",
       "</table>\n",
       "</div>"
      ],
      "text/plain": [
       "              Open  Settle  Volume\n",
       "Date                              \n",
       "2018-07-10  344.25  339.75  2668.0\n",
       "2018-07-09  346.00  345.75  3190.0\n",
       "2018-07-06  342.00  351.75  3068.0\n",
       "2018-07-05  345.50  343.50  3302.0\n",
       "2018-07-03  340.25  342.75  3048.0"
      ]
     },
     "execution_count": 47,
     "metadata": {},
     "output_type": "execute_result"
    }
   ],
   "source": [
    "df_fut=df_fut_orig.drop(columns=[clmn for i,clmn in enumerate(df_fut_orig.columns) if i not in [0,1,6,7] ],axis=1)\n",
    "\n",
    "df_fut['Date'] = pd.to_datetime(df_fut['Date'])\n",
    "df_fut.set_index('Date',inplace=True)\n",
    "\n",
    "df_fut.head()"
   ]
  },
  {
   "cell_type": "code",
   "execution_count": 48,
   "metadata": {},
   "outputs": [
    {
     "data": {
      "text/html": [
       "<div>\n",
       "<style scoped>\n",
       "    .dataframe tbody tr th:only-of-type {\n",
       "        vertical-align: middle;\n",
       "    }\n",
       "\n",
       "    .dataframe tbody tr th {\n",
       "        vertical-align: top;\n",
       "    }\n",
       "\n",
       "    .dataframe thead th {\n",
       "        text-align: right;\n",
       "    }\n",
       "</style>\n",
       "<table border=\"1\" class=\"dataframe\">\n",
       "  <thead>\n",
       "    <tr style=\"text-align: right;\">\n",
       "      <th></th>\n",
       "      <th>Open</th>\n",
       "      <th>Settle</th>\n",
       "      <th>Volume</th>\n",
       "    </tr>\n",
       "    <tr>\n",
       "      <th>Date</th>\n",
       "      <th></th>\n",
       "      <th></th>\n",
       "      <th></th>\n",
       "    </tr>\n",
       "  </thead>\n",
       "  <tbody>\n",
       "    <tr>\n",
       "      <th>2006-06-18</th>\n",
       "      <td>234.00</td>\n",
       "      <td>235.50</td>\n",
       "      <td>56486.0</td>\n",
       "    </tr>\n",
       "    <tr>\n",
       "      <th>2006-06-25</th>\n",
       "      <td>234.00</td>\n",
       "      <td>228.25</td>\n",
       "      <td>28361.0</td>\n",
       "    </tr>\n",
       "    <tr>\n",
       "      <th>2006-07-02</th>\n",
       "      <td>227.00</td>\n",
       "      <td>235.50</td>\n",
       "      <td>30519.0</td>\n",
       "    </tr>\n",
       "    <tr>\n",
       "      <th>2006-07-09</th>\n",
       "      <td>239.25</td>\n",
       "      <td>241.00</td>\n",
       "      <td>13057.0</td>\n",
       "    </tr>\n",
       "    <tr>\n",
       "      <th>2006-07-16</th>\n",
       "      <td>246.50</td>\n",
       "      <td>253.50</td>\n",
       "      <td>2460.0</td>\n",
       "    </tr>\n",
       "  </tbody>\n",
       "</table>\n",
       "</div>"
      ],
      "text/plain": [
       "              Open  Settle   Volume\n",
       "Date                               \n",
       "2006-06-18  234.00  235.50  56486.0\n",
       "2006-06-25  234.00  228.25  28361.0\n",
       "2006-07-02  227.00  235.50  30519.0\n",
       "2006-07-09  239.25  241.00  13057.0\n",
       "2006-07-16  246.50  253.50   2460.0"
      ]
     },
     "execution_count": 48,
     "metadata": {},
     "output_type": "execute_result"
    }
   ],
   "source": [
    "s_open =df_fut['Open'].resample('W').first()\n",
    "s_settle =df_fut['Settle'].resample('W').last()\n",
    "s_volume =df_fut['Volume'].resample('W').last()\n",
    "df_fut_weekly = pd.concat([s_open, s_settle,s_volume], axis=1)\n",
    "df_fut_weekly.head()"
   ]
  },
  {
   "cell_type": "code",
   "execution_count": 52,
   "metadata": {},
   "outputs": [
    {
     "data": {
      "text/html": [
       "<div>\n",
       "<style scoped>\n",
       "    .dataframe tbody tr th:only-of-type {\n",
       "        vertical-align: middle;\n",
       "    }\n",
       "\n",
       "    .dataframe tbody tr th {\n",
       "        vertical-align: top;\n",
       "    }\n",
       "\n",
       "    .dataframe thead th {\n",
       "        text-align: right;\n",
       "    }\n",
       "</style>\n",
       "<table border=\"1\" class=\"dataframe\">\n",
       "  <thead>\n",
       "    <tr style=\"text-align: right;\">\n",
       "      <th></th>\n",
       "      <th>Longs</th>\n",
       "      <th>Shorts</th>\n",
       "    </tr>\n",
       "    <tr>\n",
       "      <th>Date</th>\n",
       "      <th></th>\n",
       "      <th></th>\n",
       "    </tr>\n",
       "  </thead>\n",
       "  <tbody>\n",
       "    <tr>\n",
       "      <th>2018-07-10</th>\n",
       "      <td>500172.0</td>\n",
       "      <td>750062.0</td>\n",
       "    </tr>\n",
       "    <tr>\n",
       "      <th>2018-07-03</th>\n",
       "      <td>484257.0</td>\n",
       "      <td>773851.0</td>\n",
       "    </tr>\n",
       "    <tr>\n",
       "      <th>2018-06-26</th>\n",
       "      <td>513100.0</td>\n",
       "      <td>840177.0</td>\n",
       "    </tr>\n",
       "    <tr>\n",
       "      <th>2018-06-19</th>\n",
       "      <td>525197.0</td>\n",
       "      <td>920764.0</td>\n",
       "    </tr>\n",
       "    <tr>\n",
       "      <th>2018-06-12</th>\n",
       "      <td>488666.0</td>\n",
       "      <td>917204.0</td>\n",
       "    </tr>\n",
       "  </tbody>\n",
       "</table>\n",
       "</div>"
      ],
      "text/plain": [
       "               Longs    Shorts\n",
       "Date                          \n",
       "2018-07-10  500172.0  750062.0\n",
       "2018-07-03  484257.0  773851.0\n",
       "2018-06-26  513100.0  840177.0\n",
       "2018-06-19  525197.0  920764.0\n",
       "2018-06-12  488666.0  917204.0"
      ]
     },
     "execution_count": 52,
     "metadata": {},
     "output_type": "execute_result"
    }
   ],
   "source": [
    "df_cot=df_cot_orig.drop(columns=[clmn for i,clmn in enumerate(df_cot_orig.columns) if i not in [0,2,3 ]],axis=1)\n",
    "df_cot.rename(index=str, columns={\"Producer_Merchant_Processor_User_Longs\": \"Longs\", \\\n",
    "                                  \"Producer_Merchant_Processor_User_Shorts\": \"Shorts\"},inplace=True)\n",
    "df_cot['Date'] = pd.to_datetime(df_cot['Date'])\n",
    "df_cot.set_index('Date',inplace=True)\n",
    "df_cot.head()"
   ]
  },
  {
   "cell_type": "code",
   "execution_count": 53,
   "metadata": {},
   "outputs": [
    {
     "data": {
      "text/html": [
       "<div>\n",
       "<style scoped>\n",
       "    .dataframe tbody tr th:only-of-type {\n",
       "        vertical-align: middle;\n",
       "    }\n",
       "\n",
       "    .dataframe tbody tr th {\n",
       "        vertical-align: top;\n",
       "    }\n",
       "\n",
       "    .dataframe thead th {\n",
       "        text-align: right;\n",
       "    }\n",
       "</style>\n",
       "<table border=\"1\" class=\"dataframe\">\n",
       "  <thead>\n",
       "    <tr style=\"text-align: right;\">\n",
       "      <th></th>\n",
       "      <th>Longs</th>\n",
       "      <th>Shorts</th>\n",
       "    </tr>\n",
       "    <tr>\n",
       "      <th>Date</th>\n",
       "      <th></th>\n",
       "      <th></th>\n",
       "    </tr>\n",
       "  </thead>\n",
       "  <tbody>\n",
       "    <tr>\n",
       "      <th>2006-06-18</th>\n",
       "      <td>209662.0</td>\n",
       "      <td>699163.0</td>\n",
       "    </tr>\n",
       "    <tr>\n",
       "      <th>2006-06-25</th>\n",
       "      <td>224476.0</td>\n",
       "      <td>666688.0</td>\n",
       "    </tr>\n",
       "    <tr>\n",
       "      <th>2006-07-02</th>\n",
       "      <td>234769.0</td>\n",
       "      <td>645735.0</td>\n",
       "    </tr>\n",
       "    <tr>\n",
       "      <th>2006-07-09</th>\n",
       "      <td>220552.0</td>\n",
       "      <td>648405.0</td>\n",
       "    </tr>\n",
       "    <tr>\n",
       "      <th>2006-07-16</th>\n",
       "      <td>216968.0</td>\n",
       "      <td>673110.0</td>\n",
       "    </tr>\n",
       "  </tbody>\n",
       "</table>\n",
       "</div>"
      ],
      "text/plain": [
       "               Longs    Shorts\n",
       "Date                          \n",
       "2006-06-18  209662.0  699163.0\n",
       "2006-06-25  224476.0  666688.0\n",
       "2006-07-02  234769.0  645735.0\n",
       "2006-07-09  220552.0  648405.0\n",
       "2006-07-16  216968.0  673110.0"
      ]
     },
     "execution_count": 53,
     "metadata": {},
     "output_type": "execute_result"
    }
   ],
   "source": [
    "s_longs =df_cot['Longs'].resample('W').last()\n",
    "s_shorts =df_cot['Shorts'].resample('W').last()\n",
    "df_cot_weekly = pd.concat([s_longs, s_shorts], axis=1)\n",
    "df_cot_weekly.head()"
   ]
  },
  {
   "cell_type": "code",
   "execution_count": 55,
   "metadata": {},
   "outputs": [
    {
     "data": {
      "text/html": [
       "<div>\n",
       "<style scoped>\n",
       "    .dataframe tbody tr th:only-of-type {\n",
       "        vertical-align: middle;\n",
       "    }\n",
       "\n",
       "    .dataframe tbody tr th {\n",
       "        vertical-align: top;\n",
       "    }\n",
       "\n",
       "    .dataframe thead th {\n",
       "        text-align: right;\n",
       "    }\n",
       "</style>\n",
       "<table border=\"1\" class=\"dataframe\">\n",
       "  <thead>\n",
       "    <tr style=\"text-align: right;\">\n",
       "      <th></th>\n",
       "      <th>Open</th>\n",
       "      <th>Settle</th>\n",
       "      <th>Volume</th>\n",
       "      <th>Longs</th>\n",
       "      <th>Shorts</th>\n",
       "    </tr>\n",
       "    <tr>\n",
       "      <th>Date</th>\n",
       "      <th></th>\n",
       "      <th></th>\n",
       "      <th></th>\n",
       "      <th></th>\n",
       "      <th></th>\n",
       "    </tr>\n",
       "  </thead>\n",
       "  <tbody>\n",
       "    <tr>\n",
       "      <th>2006-06-18</th>\n",
       "      <td>234.00</td>\n",
       "      <td>235.50</td>\n",
       "      <td>56486.0</td>\n",
       "      <td>209662.0</td>\n",
       "      <td>699163.0</td>\n",
       "    </tr>\n",
       "    <tr>\n",
       "      <th>2006-06-25</th>\n",
       "      <td>234.00</td>\n",
       "      <td>228.25</td>\n",
       "      <td>28361.0</td>\n",
       "      <td>224476.0</td>\n",
       "      <td>666688.0</td>\n",
       "    </tr>\n",
       "    <tr>\n",
       "      <th>2006-07-02</th>\n",
       "      <td>227.00</td>\n",
       "      <td>235.50</td>\n",
       "      <td>30519.0</td>\n",
       "      <td>234769.0</td>\n",
       "      <td>645735.0</td>\n",
       "    </tr>\n",
       "    <tr>\n",
       "      <th>2006-07-09</th>\n",
       "      <td>239.25</td>\n",
       "      <td>241.00</td>\n",
       "      <td>13057.0</td>\n",
       "      <td>220552.0</td>\n",
       "      <td>648405.0</td>\n",
       "    </tr>\n",
       "    <tr>\n",
       "      <th>2006-07-16</th>\n",
       "      <td>246.50</td>\n",
       "      <td>253.50</td>\n",
       "      <td>2460.0</td>\n",
       "      <td>216968.0</td>\n",
       "      <td>673110.0</td>\n",
       "    </tr>\n",
       "  </tbody>\n",
       "</table>\n",
       "</div>"
      ],
      "text/plain": [
       "              Open  Settle   Volume     Longs    Shorts\n",
       "Date                                                   \n",
       "2006-06-18  234.00  235.50  56486.0  209662.0  699163.0\n",
       "2006-06-25  234.00  228.25  28361.0  224476.0  666688.0\n",
       "2006-07-02  227.00  235.50  30519.0  234769.0  645735.0\n",
       "2006-07-09  239.25  241.00  13057.0  220552.0  648405.0\n",
       "2006-07-16  246.50  253.50   2460.0  216968.0  673110.0"
      ]
     },
     "execution_count": 55,
     "metadata": {},
     "output_type": "execute_result"
    }
   ],
   "source": [
    "df_weekly = pd.merge(df_fut_weekly,df_cot_weekly, on='Date')\n",
    "df_weekly.head()\n"
   ]
  },
  {
   "cell_type": "code",
   "execution_count": 59,
   "metadata": {},
   "outputs": [
    {
     "data": {
      "image/png": "[encoded data removed]",
      "text/plain": [
       "<Figure size 432x288 with 5 Axes>"
      ]
     },
     "metadata": {},
     "output_type": "display_data"
    }
   ],
   "source": [
    "values = df_weekly.values\n",
    "# specify columns to plot\n",
    "groups = [0, 1, 2, 3,4 ]\n",
    "i = 1\n",
    "# plot each column\n",
    "pyplot.figure()\n",
    "for group in groups:\n",
    "\tpyplot.subplot(len(groups), 1, i)\n",
    "\tpyplot.plot(values[:, group])\n",
    "\tpyplot.title(df_weekly.columns[group], y=0.5, loc='right')\n",
    "\ti += 1\n",
    "pyplot.show()"
   ]
  },
  {
   "cell_type": "code",
   "execution_count": 23,
   "metadata": {},
   "outputs": [
    {
     "name": "stdout",
     "output_type": "stream",
     "text": [
      "<class 'pandas.core.frame.DataFrame'>\n",
      "DatetimeIndex: 3034 entries, 2018-07-10 to 2006-06-16\n",
      "Data columns (total 3 columns):\n",
      "Open      3033 non-null float64\n",
      "Settle    3034 non-null float64\n",
      "Volume    3034 non-null float64\n",
      "dtypes: float64(3)\n",
      "memory usage: 94.8 KB\n"
     ]
    }
   ],
   "source": [
    "df_fut.info()"
   ]
  },
  {
   "cell_type": "code",
   "execution_count": 1,
   "metadata": {},
   "outputs": [
    {
     "ename": "NameError",
     "evalue": "name 'data' is not defined",
     "output_type": "error",
     "traceback": [
      "\u001b[1;31m---------------------------------------------------------------------------\u001b[0m",
      "\u001b[1;31mNameError\u001b[0m                                 Traceback (most recent call last)",
      "\u001b[1;32m<ipython-input-1-a376aac7171c>\u001b[0m in \u001b[0;36m<module>\u001b[1;34m()\u001b[0m\n\u001b[0;32m      3\u001b[0m \u001b[1;33m\u001b[0m\u001b[0m\n\u001b[0;32m      4\u001b[0m \u001b[0mfut_data\u001b[0m \u001b[1;33m=\u001b[0m \u001b[0mpd\u001b[0m\u001b[1;33m.\u001b[0m\u001b[0mread_csv\u001b[0m\u001b[1;33m(\u001b[0m\u001b[1;34m'data\\CHRIS-CME_C1.csv'\u001b[0m\u001b[1;33m)\u001b[0m\u001b[1;33m\u001b[0m\u001b[0m\n\u001b[1;32m----> 5\u001b[1;33m \u001b[0mprint\u001b[0m\u001b[1;33m(\u001b[0m\u001b[0mdata\u001b[0m\u001b[1;33m.\u001b[0m\u001b[0mhead\u001b[0m\u001b[1;33m(\u001b[0m\u001b[1;33m)\u001b[0m\u001b[1;33m)\u001b[0m\u001b[1;33m\u001b[0m\u001b[0m\n\u001b[0m\u001b[0;32m      6\u001b[0m \u001b[1;33m\u001b[0m\u001b[0m\n\u001b[0;32m      7\u001b[0m \u001b[0mprint\u001b[0m\u001b[1;33m(\u001b[0m\u001b[1;34m\"\\n\"\u001b[0m\u001b[1;33m)\u001b[0m\u001b[1;33m\u001b[0m\u001b[0m\n",
      "\u001b[1;31mNameError\u001b[0m: name 'data' is not defined"
     ]
    }
   ],
   "source": [
    "import pandas as pd\n",
    "import numpy as np\n",
    "\n",
    "fut_data = pd.read_csv('data\\CHRIS-CME_C1.csv')\n",
    "print(fut_data.head())\n",
    "\n",
    "print(\"\\n\")\n",
    "print(\"Open   --- mean :\", np.mean(data['Open']),  \"  \\t Std: \", np.std(data['Open']),  \"  \\t Max: \", np.max(data['Open']),  \"  \\t Min: \", np.min(data['Open']))\n",
    "print(\"High   --- mean :\", np.mean(data['High']),  \"  \\t Std: \", np.std(data['High']),  \"  \\t Max: \", np.max(data['High']),  \"  \\t Min: \", np.min(data['High']))\n",
    "print(\"Low    --- mean :\", np.mean(data['Low']),   \"  \\t Std: \", np.std(data['Low']),   \"  \\t Max: \", np.max(data['Low']),   \"  \\t Min: \", np.min(data['Low']))\n",
    "print(\"Close  --- mean :\", np.mean(data['Close']), \"  \\t Std: \", np.std(data['Close']), \"  \\t Max: \", np.max(data['Close']), \"  \\t Min: \", np.min(data['Close']))\n",
    "print(\"Volume --- mean :\", np.mean(data['Volume']),\"  \\t Std: \", np.std(data['Volume']),\"  \\t Max: \", np.max(data['Volume']),\"  \\t Min: \", np.min(data['Volume']))\n"
   ]
  },
  {
   "cell_type": "markdown",
   "metadata": {},
   "source": [
    "**Step 2 :** Remove Unncessary data, i.e., Date and High value"
   ]
  },
  {
   "cell_type": "code",
   "execution_count": 37,
   "metadata": {},
   "outputs": [
    {
     "name": "stdout",
     "output_type": "stream",
     "text": [
      "   Item    Open   Close    Volume\n",
      "0     0   98.80  101.46  15860692\n",
      "1     1  100.77   97.35  13762396\n",
      "2     2   96.82   96.85   8239545\n",
      "3     3   97.72   94.37  10389803\n",
      "4     4   95.42   97.02   9666175\n",
      "---\n",
      "      Item    Open   Close   Volume\n",
      "3140  3140  990.00  972.09  1517912\n",
      "3141  3141  961.60  948.09  2443602\n",
      "3142  3142  950.66  961.01  2745568\n",
      "3143  3143  951.35  937.82  3206674\n",
      "3144  3144  943.99  929.68  2287662\n"
     ]
    }
   ],
   "source": [
    "import preprocess_data as ppd\n",
    "stocks = ppd.remove_data(data)\n",
    "\n",
    "#Print the dataframe head and tail\n",
    "print(stocks.head())\n",
    "print(\"---\")\n",
    "print(stocks.tail())"
   ]
  },
  {
   "cell_type": "markdown",
   "metadata": {},
   "source": [
    "**Step 2: ** Visualise raw data."
   ]
  },
  {
   "cell_type": "code",
   "execution_count": 38,
   "metadata": {},
   "outputs": [
    {
     "data": {
      "image/png": "[encoded data removed]",
      "text/plain": [
       "<Figure size 432x288 with 1 Axes>"
      ]
     },
     "metadata": {},
     "output_type": "display_data"
    }
   ],
   "source": [
    "import visualize\n",
    "\n",
    "visualize.plot_basic(stocks)"
   ]
  },
  {
   "cell_type": "markdown",
   "metadata": {},
   "source": [
    "**Step 3 :** Normalise the data using minmaxscaler function"
   ]
  },
  {
   "cell_type": "code",
   "execution_count": 39,
   "metadata": {},
   "outputs": [
    {
     "name": "stdout",
     "output_type": "stream",
     "text": [
      "   Item      Open     Close    Volume\n",
      "0     0  0.012051  0.015141  0.377248\n",
      "1     1  0.014198  0.010658  0.325644\n",
      "2     2  0.009894  0.010112  0.189820\n",
      "3     3  0.010874  0.007407  0.242701\n",
      "4     4  0.008368  0.010298  0.224905\n",
      "\n",
      "\n",
      "Open   --- mean : 0.3211922293886812   \t Std:  0.23261946808306658   \t Max:  0.9999999999999999   \t Min:  0.0\n",
      "Close  --- mean : 0.3215558503465895   \t Std:  0.23283076112482215   \t Max:  1.0   \t Min:  0.0\n",
      "Volume --- mean : 0.09061506381049182   \t Std:  0.09535947661989863   \t Max:  0.9999999999999999   \t Min:  0.0\n"
     ]
    }
   ],
   "source": [
    "stocks = ppd.get_normalised_data(stocks)\n",
    "print(stocks.head())\n",
    "\n",
    "print(\"\\n\")\n",
    "print(\"Open   --- mean :\", np.mean(stocks['Open']),  \"  \\t Std: \", np.std(stocks['Open']),  \"  \\t Max: \", np.max(stocks['Open']),  \"  \\t Min: \", np.min(stocks['Open']))\n",
    "print(\"Close  --- mean :\", np.mean(stocks['Close']), \"  \\t Std: \", np.std(stocks['Close']), \"  \\t Max: \", np.max(stocks['Close']), \"  \\t Min: \", np.min(stocks['Close']))\n",
    "print(\"Volume --- mean :\", np.mean(stocks['Volume']),\"  \\t Std: \", np.std(stocks['Volume']),\"  \\t Max: \", np.max(stocks['Volume']),\"  \\t Min: \", np.min(stocks['Volume']))"
   ]
  },
  {
   "cell_type": "markdown",
   "metadata": {},
   "source": [
    "**Step 4 :** Visualize the data again"
   ]
  },
  {
   "cell_type": "code",
   "execution_count": 40,
   "metadata": {},
   "outputs": [
    {
     "data": {
      "image/png": "[encoded data removed]",
      "text/plain": [
       "<Figure size 432x288 with 1 Axes>"
      ]
     },
     "metadata": {},
     "output_type": "display_data"
    }
   ],
   "source": [
    "visualize.plot_basic(stocks)"
   ]
  },
  {
   "cell_type": "markdown",
   "metadata": {
    "collapsed": true
   },
   "source": [
    "**Step 5:** Log the normalised data for future resuablilty"
   ]
  },
  {
   "cell_type": "code",
   "execution_count": 41,
   "metadata": {},
   "outputs": [],
   "source": [
    "stocks.to_csv('google_preprocessed.csv',index= False)"
   ]
  },
  {
   "cell_type": "markdown",
   "metadata": {},
   "source": [
    "# Check Point #2\n",
    "\n",
    "This is my second checkpoint. The preprocessed data has been saved to disk."
   ]
  },
  {
   "cell_type": "markdown",
   "metadata": {},
   "source": [
    "## Bench Mark Model\n",
    "\n",
    "In this section we will check our bench mark model. As is proposed in my proposal my bench mark model is a simple linear regressor model. "
   ]
  },
  {
   "cell_type": "markdown",
   "metadata": {},
   "source": [
    "**Step 1:** Load the preprocessed data"
   ]
  },
  {
   "cell_type": "code",
   "execution_count": 42,
   "metadata": {},
   "outputs": [
    {
     "data": {
      "text/html": [
       "<div>\n",
       "<style scoped>\n",
       "    .dataframe tbody tr th:only-of-type {\n",
       "        vertical-align: middle;\n",
       "    }\n",
       "\n",
       "    .dataframe tbody tr th {\n",
       "        vertical-align: top;\n",
       "    }\n",
       "\n",
       "    .dataframe thead th {\n",
       "        text-align: right;\n",
       "    }\n",
       "</style>\n",
       "<table border=\"1\" class=\"dataframe\">\n",
       "  <thead>\n",
       "    <tr style=\"text-align: right;\">\n",
       "      <th></th>\n",
       "      <th>Item</th>\n",
       "      <th>Open</th>\n",
       "      <th>Close</th>\n",
       "      <th>Volume</th>\n",
       "    </tr>\n",
       "  </thead>\n",
       "  <tbody>\n",
       "    <tr>\n",
       "      <th>0</th>\n",
       "      <td>0</td>\n",
       "      <td>0.012051</td>\n",
       "      <td>0.015141</td>\n",
       "      <td>0.377248</td>\n",
       "    </tr>\n",
       "    <tr>\n",
       "      <th>1</th>\n",
       "      <td>1</td>\n",
       "      <td>0.014198</td>\n",
       "      <td>0.010658</td>\n",
       "      <td>0.325644</td>\n",
       "    </tr>\n",
       "    <tr>\n",
       "      <th>2</th>\n",
       "      <td>2</td>\n",
       "      <td>0.009894</td>\n",
       "      <td>0.010112</td>\n",
       "      <td>0.189820</td>\n",
       "    </tr>\n",
       "    <tr>\n",
       "      <th>3</th>\n",
       "      <td>3</td>\n",
       "      <td>0.010874</td>\n",
       "      <td>0.007407</td>\n",
       "      <td>0.242701</td>\n",
       "    </tr>\n",
       "    <tr>\n",
       "      <th>4</th>\n",
       "      <td>4</td>\n",
       "      <td>0.008368</td>\n",
       "      <td>0.010298</td>\n",
       "      <td>0.224905</td>\n",
       "    </tr>\n",
       "  </tbody>\n",
       "</table>\n",
       "</div>"
      ],
      "text/plain": [
       "   Item      Open     Close    Volume\n",
       "0     0  0.012051  0.015141  0.377248\n",
       "1     1  0.014198  0.010658  0.325644\n",
       "2     2  0.009894  0.010112  0.189820\n",
       "3     3  0.010874  0.007407  0.242701\n",
       "4     4  0.008368  0.010298  0.224905"
      ]
     },
     "metadata": {},
     "output_type": "display_data"
    }
   ],
   "source": [
    "import math\n",
    "import pandas as pd\n",
    "import numpy as np\n",
    "from IPython.display import display\n",
    "from sklearn import linear_model\n",
    "from sklearn.model_selection import train_test_split\n",
    "from sklearn.metrics import mean_squared_error\n",
    "from sklearn.model_selection import TimeSeriesSplit\n",
    "\n",
    "import visualize as vs\n",
    "import stock_data as sd\n",
    "import LinearRegressionModel\n",
    "\n",
    "stocks = pd.read_csv('google_preprocessed.csv')\n",
    "display(stocks.head())"
   ]
  },
  {
   "cell_type": "markdown",
   "metadata": {},
   "source": [
    "**Step 2:** Split data into train and test pair"
   ]
  },
  {
   "cell_type": "code",
   "execution_count": 43,
   "metadata": {},
   "outputs": [
    {
     "name": "stdout",
     "output_type": "stream",
     "text": [
      "x_train (2155, 1)\n",
      "y_train (2155, 1)\n",
      "x_test (990, 1)\n",
      "y_test (990, 1)\n"
     ]
    }
   ],
   "source": [
    "X_train, X_test, y_train, y_test, label_range= sd.train_test_split_linear_regression(stocks)\n",
    "\n",
    "print(\"x_train\", X_train.shape)\n",
    "print(\"y_train\", y_train.shape)\n",
    "print(\"x_test\", X_test.shape)\n",
    "print(\"y_test\", y_test.shape)"
   ]
  },
  {
   "cell_type": "markdown",
   "metadata": {},
   "source": [
    "**Step 3:** Train a Linear regressor model on training set and get prediction"
   ]
  },
  {
   "cell_type": "code",
   "execution_count": 44,
   "metadata": {},
   "outputs": [],
   "source": [
    "model = LinearRegressionModel.build_model(X_train,y_train)"
   ]
  },
  {
   "cell_type": "markdown",
   "metadata": {},
   "source": [
    "**Step 4:** Get prediction on test set"
   ]
  },
  {
   "cell_type": "code",
   "execution_count": 45,
   "metadata": {},
   "outputs": [],
   "source": [
    "predictions = LinearRegressionModel.predict_prices(model,X_test, label_range)"
   ]
  },
  {
   "cell_type": "markdown",
   "metadata": {},
   "source": [
    "**Step 5:** Plot the predicted values against actual"
   ]
  },
  {
   "cell_type": "code",
   "execution_count": 46,
   "metadata": {},
   "outputs": [
    {
     "data": {
      "image/png": "[encoded data removed]",
      "text/plain": [
       "<Figure size 432x288 with 1 Axes>"
      ]
     },
     "metadata": {},
     "output_type": "display_data"
    }
   ],
   "source": [
    "vs.plot_prediction(y_test,predictions)"
   ]
  },
  {
   "cell_type": "markdown",
   "metadata": {},
   "source": [
    "**Step 6:** measure accuracy of the prediction"
   ]
  },
  {
   "cell_type": "code",
   "execution_count": 47,
   "metadata": {},
   "outputs": [
    {
     "name": "stdout",
     "output_type": "stream",
     "text": [
      "Train Score: 0.1852 MSE (0.4303 RMSE)\n",
      "Test Score: 0.08133781 MSE (0.28519784 RMSE)\n"
     ]
    }
   ],
   "source": [
    "trainScore = mean_squared_error(X_train, y_train)\n",
    "print('Train Score: %.4f MSE (%.4f RMSE)' % (trainScore, math.sqrt(trainScore)))\n",
    "\n",
    "testScore = mean_squared_error(predictions, y_test)\n",
    "print('Test Score: %.8f MSE (%.8f RMSE)' % (testScore, math.sqrt(testScore)))"
   ]
  },
  {
   "cell_type": "markdown",
   "metadata": {},
   "source": [
    "# Checkpoint #3\n",
    "\n",
    "\n",
    "## Long-Sort Term Memory Model\n",
    "\n",
    "In this section we will use LSTM to train and test on our data set."
   ]
  },
  {
   "cell_type": "markdown",
   "metadata": {},
   "source": [
    "### Basic LSTM Model\n",
    "\n",
    "First lets make a basic LSTM model."
   ]
  },
  {
   "cell_type": "markdown",
   "metadata": {},
   "source": [
    "**Step 1 :** import keras libraries for smooth implementaion of lstm "
   ]
  },
  {
   "cell_type": "code",
   "execution_count": 48,
   "metadata": {},
   "outputs": [
    {
     "data": {
      "text/html": [
       "<div>\n",
       "<style scoped>\n",
       "    .dataframe tbody tr th:only-of-type {\n",
       "        vertical-align: middle;\n",
       "    }\n",
       "\n",
       "    .dataframe tbody tr th {\n",
       "        vertical-align: top;\n",
       "    }\n",
       "\n",
       "    .dataframe thead th {\n",
       "        text-align: right;\n",
       "    }\n",
       "</style>\n",
       "<table border=\"1\" class=\"dataframe\">\n",
       "  <thead>\n",
       "    <tr style=\"text-align: right;\">\n",
       "      <th></th>\n",
       "      <th>Open</th>\n",
       "      <th>Close</th>\n",
       "      <th>Volume</th>\n",
       "    </tr>\n",
       "  </thead>\n",
       "  <tbody>\n",
       "    <tr>\n",
       "      <th>0</th>\n",
       "      <td>0.012051</td>\n",
       "      <td>0.015141</td>\n",
       "      <td>0.377248</td>\n",
       "    </tr>\n",
       "    <tr>\n",
       "      <th>1</th>\n",
       "      <td>0.014198</td>\n",
       "      <td>0.010658</td>\n",
       "      <td>0.325644</td>\n",
       "    </tr>\n",
       "    <tr>\n",
       "      <th>2</th>\n",
       "      <td>0.009894</td>\n",
       "      <td>0.010112</td>\n",
       "      <td>0.189820</td>\n",
       "    </tr>\n",
       "    <tr>\n",
       "      <th>3</th>\n",
       "      <td>0.010874</td>\n",
       "      <td>0.007407</td>\n",
       "      <td>0.242701</td>\n",
       "    </tr>\n",
       "    <tr>\n",
       "      <th>4</th>\n",
       "      <td>0.008368</td>\n",
       "      <td>0.010298</td>\n",
       "      <td>0.224905</td>\n",
       "    </tr>\n",
       "  </tbody>\n",
       "</table>\n",
       "</div>"
      ],
      "text/plain": [
       "       Open     Close    Volume\n",
       "0  0.012051  0.015141  0.377248\n",
       "1  0.014198  0.010658  0.325644\n",
       "2  0.009894  0.010112  0.189820\n",
       "3  0.010874  0.007407  0.242701\n",
       "4  0.008368  0.010298  0.224905"
      ]
     },
     "metadata": {},
     "output_type": "display_data"
    }
   ],
   "source": [
    "import math\n",
    "import pandas as pd\n",
    "import numpy as np\n",
    "from IPython.display import display\n",
    "\n",
    "from keras.layers.core import Dense, Activation, Dropout\n",
    "from keras.layers.recurrent import LSTM\n",
    "from keras.models import Sequential\n",
    "from keras.metrics import mean_squared_error\n",
    "from sklearn.model_selection import StratifiedKFold\n",
    "\n",
    "import lstm, time #helper libraries\n",
    "\n",
    "import visualize as vs\n",
    "import stock_data as sd\n",
    "import LinearRegressionModel\n",
    "\n",
    "stocks = pd.read_csv('google_preprocessed.csv')\n",
    "stocks_data = stocks.drop(['Item'], axis =1)\n",
    "\n",
    "display(stocks_data.head())"
   ]
  },
  {
   "cell_type": "markdown",
   "metadata": {},
   "source": [
    "**Step 2 :** Split train and test data sets and Unroll train and test data for lstm model"
   ]
  },
  {
   "cell_type": "code",
   "execution_count": 49,
   "metadata": {},
   "outputs": [
    {
     "name": "stdout",
     "output_type": "stream",
     "text": [
      "x_train (2589, 50, 3)\n",
      "y_train (2589,)\n",
      "x_test (446, 50, 3)\n",
      "y_test (446,)\n"
     ]
    },
    {
     "name": "stderr",
     "output_type": "stream",
     "text": [
      "C:\\udacity\\capstone\\other_people\\rajat\\Stock-Price-Predictor-master\\stock_data.py:79: FutureWarning: Method .as_matrix will be removed in a future version. Use .values instead.\n",
      "  x_train = stocks[0:-prediction_time - test_data_cut].as_matrix()\n",
      "C:\\udacity\\capstone\\other_people\\rajat\\Stock-Price-Predictor-master\\stock_data.py:80: FutureWarning: Method .as_matrix will be removed in a future version. Use .values instead.\n",
      "  y_train = stocks[prediction_time:-test_data_cut]['Close'].as_matrix()\n",
      "C:\\udacity\\capstone\\other_people\\rajat\\Stock-Price-Predictor-master\\stock_data.py:83: FutureWarning: Method .as_matrix will be removed in a future version. Use .values instead.\n",
      "  x_test = stocks[0 - test_data_cut:-prediction_time].as_matrix()\n",
      "C:\\udacity\\capstone\\other_people\\rajat\\Stock-Price-Predictor-master\\stock_data.py:84: FutureWarning: Method .as_matrix will be removed in a future version. Use .values instead.\n",
      "  y_test = stocks[prediction_time - test_data_cut:]['Close'].as_matrix()\n"
     ]
    }
   ],
   "source": [
    "X_train, X_test,y_train, y_test = sd.train_test_split_lstm(stocks_data, 5)\n",
    "\n",
    "unroll_length = 50\n",
    "X_train = sd.unroll(X_train, unroll_length)\n",
    "X_test = sd.unroll(X_test, unroll_length)\n",
    "y_train = y_train[-X_train.shape[0]:]\n",
    "y_test = y_test[-X_test.shape[0]:]\n",
    "\n",
    "print(\"x_train\", X_train.shape)\n",
    "print(\"y_train\", y_train.shape)\n",
    "print(\"x_test\", X_test.shape)\n",
    "print(\"y_test\", y_test.shape)"
   ]
  },
  {
   "cell_type": "markdown",
   "metadata": {},
   "source": [
    "**Step 3 :** Build a basic Long-Short Term Memory model"
   ]
  },
  {
   "cell_type": "code",
   "execution_count": 50,
   "metadata": {},
   "outputs": [
    {
     "name": "stdout",
     "output_type": "stream",
     "text": [
      "compilation time :  0.030002593994140625\n"
     ]
    }
   ],
   "source": [
    "# build basic lstm model\n",
    "model = lstm.build_basic_model(input_dim = X_train.shape[-1],output_dim = unroll_length, return_sequences=True)\n",
    "\n",
    "# Compile the model\n",
    "start = time.time()\n",
    "model.compile(loss='mean_squared_error', optimizer='adam')\n",
    "print('compilation time : ', time.time() - start)"
   ]
  },
  {
   "cell_type": "markdown",
   "metadata": {},
   "source": [
    "**Step 4:** Train the model"
   ]
  },
  {
   "cell_type": "code",
   "execution_count": 51,
   "metadata": {},
   "outputs": [
    {
     "name": "stdout",
     "output_type": "stream",
     "text": [
      "Train on 2459 samples, validate on 130 samples\n",
      "Epoch 1/1\n",
      "2459/2459 [==============================] - 6s 2ms/step - loss: 0.0041 - val_loss: 2.8666e-04\n"
     ]
    },
    {
     "data": {
      "text/plain": [
       "<keras.callbacks.History at 0x1ecebb859b0>"
      ]
     },
     "execution_count": 51,
     "metadata": {},
     "output_type": "execute_result"
    }
   ],
   "source": [
    "model.fit(\n",
    "    X_train,\n",
    "    y_train,\n",
    "    epochs=1,\n",
    "    validation_split=0.05)"
   ]
  },
  {
   "cell_type": "markdown",
   "metadata": {},
   "source": [
    "**Step 5:** make prediction using test data"
   ]
  },
  {
   "cell_type": "code",
   "execution_count": 52,
   "metadata": {},
   "outputs": [],
   "source": [
    "predictions = model.predict(X_test)"
   ]
  },
  {
   "cell_type": "markdown",
   "metadata": {},
   "source": [
    "**Step 6:** Plot the results"
   ]
  },
  {
   "cell_type": "code",
   "execution_count": 53,
   "metadata": {},
   "outputs": [
    {
     "data": {
      "image/png": "[encoded data removed]",
      "text/plain": [
       "<Figure size 432x288 with 1 Axes>"
      ]
     },
     "metadata": {},
     "output_type": "display_data"
    }
   ],
   "source": [
    "vs.plot_lstm_prediction(y_test,predictions)"
   ]
  },
  {
   "cell_type": "markdown",
   "metadata": {},
   "source": [
    "** Step 7:** Get the test score."
   ]
  },
  {
   "cell_type": "code",
   "execution_count": 54,
   "metadata": {},
   "outputs": [
    {
     "name": "stdout",
     "output_type": "stream",
     "text": [
      "Train Score: 0.00034886 MSE (0.01867783 RMSE)\n",
      "Test Score: 0.00115569 MSE (0.03399540 RMSE)\n"
     ]
    }
   ],
   "source": [
    "trainScore = model.evaluate(X_train, y_train, verbose=0)\n",
    "print('Train Score: %.8f MSE (%.8f RMSE)' % (trainScore, math.sqrt(trainScore)))\n",
    "\n",
    "testScore = model.evaluate(X_test, y_test, verbose=0)\n",
    "print('Test Score: %.8f MSE (%.8f RMSE)' % (testScore, math.sqrt(testScore)))"
   ]
  },
  {
   "cell_type": "markdown",
   "metadata": {},
   "source": [
    "### Improved LSTM Model\n",
    "\n",
    "**Step 1: ** Build an improved LSTM model"
   ]
  },
  {
   "cell_type": "code",
   "execution_count": 55,
   "metadata": {},
   "outputs": [
    {
     "name": "stdout",
     "output_type": "stream",
     "text": [
      "compilation time :  0.023999452590942383\n"
     ]
    }
   ],
   "source": [
    "# Set up hyperparameters\n",
    "batch_size = 100\n",
    "epochs = 5\n",
    "\n",
    "# build improved lstm model\n",
    "model = lstm.build_improved_model( X_train.shape[-1],output_dim = unroll_length, return_sequences=True)\n",
    "\n",
    "start = time.time()\n",
    "#final_model.compile(loss='mean_squared_error', optimizer='adam')\n",
    "model.compile(loss='mean_squared_error', optimizer='adam')\n",
    "print('compilation time : ', time.time() - start)"
   ]
  },
  {
   "cell_type": "markdown",
   "metadata": {},
   "source": [
    "**Step 2: ** Train improved LSTM model"
   ]
  },
  {
   "cell_type": "code",
   "execution_count": 56,
   "metadata": {
    "scrolled": true
   },
   "outputs": [
    {
     "name": "stdout",
     "output_type": "stream",
     "text": [
      "Train on 2459 samples, validate on 130 samples\n",
      "Epoch 1/5\n",
      " - 5s - loss: 0.0108 - val_loss: 0.0020\n",
      "Epoch 2/5\n",
      " - 3s - loss: 0.0011 - val_loss: 0.0015\n",
      "Epoch 3/5\n",
      " - 3s - loss: 8.0022e-04 - val_loss: 3.7125e-04\n",
      "Epoch 4/5\n",
      " - 3s - loss: 6.6364e-04 - val_loss: 3.1677e-04\n",
      "Epoch 5/5\n",
      " - 3s - loss: 6.3024e-04 - val_loss: 3.0656e-04\n"
     ]
    },
    {
     "data": {
      "text/plain": [
       "<keras.callbacks.History at 0x1ecebafa748>"
      ]
     },
     "execution_count": 56,
     "metadata": {},
     "output_type": "execute_result"
    }
   ],
   "source": [
    "model.fit(X_train, \n",
    "          y_train, \n",
    "          batch_size=batch_size,\n",
    "          epochs=epochs,\n",
    "          verbose=2,\n",
    "          validation_split=0.05\n",
    "         )"
   ]
  },
  {
   "cell_type": "markdown",
   "metadata": {},
   "source": [
    "**Step 3:** Make prediction on improved LSTM model"
   ]
  },
  {
   "cell_type": "code",
   "execution_count": 57,
   "metadata": {},
   "outputs": [],
   "source": [
    "# Generate predictions \n",
    "predictions = model.predict(X_test, batch_size=batch_size)"
   ]
  },
  {
   "cell_type": "markdown",
   "metadata": {},
   "source": [
    "**Step 4:** plot the results"
   ]
  },
  {
   "cell_type": "code",
   "execution_count": 58,
   "metadata": {},
   "outputs": [
    {
     "data": {
      "image/png": "[encoded data removed]",
      "text/plain": [
       "<Figure size 432x288 with 1 Axes>"
      ]
     },
     "metadata": {},
     "output_type": "display_data"
    }
   ],
   "source": [
    "vs.plot_lstm_prediction(y_test,predictions)"
   ]
  },
  {
   "cell_type": "markdown",
   "metadata": {},
   "source": [
    "**Step 5:** Get the test score"
   ]
  },
  {
   "cell_type": "code",
   "execution_count": 59,
   "metadata": {},
   "outputs": [
    {
     "name": "stdout",
     "output_type": "stream",
     "text": [
      "Train Score: 0.00032527 MSE (0.01803536 RMSE)\n",
      "Test Score: 0.00098477 MSE (0.03138103 RMSE)\n"
     ]
    }
   ],
   "source": [
    "trainScore = model.evaluate(X_train, y_train, verbose=0)\n",
    "print('Train Score: %.8f MSE (%.8f RMSE)' % (trainScore, math.sqrt(trainScore)))\n",
    "\n",
    "testScore = model.evaluate(X_test, y_test, verbose=0)\n",
    "print('Test Score: %.8f MSE (%.8f RMSE)' % (testScore, math.sqrt(testScore)))"
   ]
  },
  {
   "cell_type": "code",
   "execution_count": 60,
   "metadata": {},
   "outputs": [
    {
     "name": "stdout",
     "output_type": "stream",
     "text": [
      "Delta Price: 0.000985 - RMSE * Adjusted Close Range\n"
     ]
    }
   ],
   "source": [
    "range = [np.amin(stocks_data['Close']), np.amax(stocks_data['Close'])]\n",
    "\n",
    "#Calculate the stock price delta in $\n",
    "\n",
    "true_delta = testScore*(range[1]-range[0])\n",
    "print('Delta Price: %.6f - RMSE * Adjusted Close Range' % true_delta)    "
   ]
  },
  {
   "cell_type": "markdown",
   "metadata": {},
   "source": [
    "# Checking Robustness of the model\n",
    "\n",
    "In this section we will check robustness of our LSTM model. I have used new unseen datasets for this from July 1, 2017 to July 20,2017. I have downloaded the data sets from google finance website to check for robustness of the model."
   ]
  },
  {
   "cell_type": "code",
   "execution_count": 61,
   "metadata": {},
   "outputs": [
    {
     "name": "stdout",
     "output_type": "stream",
     "text": [
      "       Open     Close    Volume\n",
      "0  0.123901  0.000000  0.606442\n",
      "1  0.000000  0.174601  1.000000\n",
      "2  0.010989  0.112263  0.921928\n",
      "3  0.093132  0.291229  0.575381\n",
      "4  0.243819  0.430228  0.366556\n",
      "(12, 1, 3)\n",
      "(12,)\n",
      "Test Score: 0.3922 MSE (0.6262 RMSE)\n"
     ]
    },
    {
     "name": "stderr",
     "output_type": "stream",
     "text": [
      "C:\\Users\\MarozasZ\\AppData\\Local\\Continuum\\anaconda3\\lib\\site-packages\\ipykernel_launcher.py:13: FutureWarning: Method .as_matrix will be removed in a future version. Use .values instead.\n",
      "  del sys.path[0]\n",
      "C:\\Users\\MarozasZ\\AppData\\Local\\Continuum\\anaconda3\\lib\\site-packages\\ipykernel_launcher.py:14: FutureWarning: Method .as_matrix will be removed in a future version. Use .values instead.\n",
      "  \n"
     ]
    }
   ],
   "source": [
    "import preprocess_data as ppd\n",
    "\n",
    "data = pd.read_csv('googl.csv')\n",
    "\n",
    "stocks = ppd.remove_data(data)\n",
    "\n",
    "stocks = ppd.get_normalised_data(stocks)\n",
    "\n",
    "stocks = stocks.drop(['Item'], axis = 1)\n",
    "#Print the dataframe head and tail\n",
    "print(stocks.head())\n",
    "\n",
    "X = stocks[:].as_matrix()\n",
    "Y = stocks[:]['Close'].as_matrix()\n",
    "\n",
    "X = sd.unroll(X,1)\n",
    "Y = Y[-X.shape[0]:]\n",
    "\n",
    "print(X.shape)\n",
    "print(Y.shape)\n",
    "\n",
    "# Generate predictions \n",
    "predictions = model.predict(X)\n",
    "\n",
    "#get the test score\n",
    "testScore = model.evaluate(X, Y, verbose=0)\n",
    "print('Test Score: %.4f MSE (%.4f RMSE)' % (testScore, math.sqrt(testScore)))"
   ]
  },
  {
   "cell_type": "code",
   "execution_count": null,
   "metadata": {},
   "outputs": [],
   "source": []
  }
 ],
 "metadata": {
  "kernelspec": {
   "display_name": "Python 3",
   "language": "python",
   "name": "python3"
  },
  "language_info": {
   "codemirror_mode": {
    "name": "ipython",
    "version": 3
   },
   "file_extension": ".py",
   "mimetype": "text/x-python",
   "name": "python",
   "nbconvert_exporter": "python",
   "pygments_lexer": "ipython3",
   "version": "3.6.5"
  }
 },
 "nbformat": 4,
 "nbformat_minor": 2
}
